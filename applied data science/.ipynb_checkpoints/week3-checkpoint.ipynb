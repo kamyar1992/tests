{
 "cells": [
  {
   "cell_type": "code",
   "execution_count": 1,
   "id": "409c6975-6f39-473c-9029-1cd8044a130f",
   "metadata": {
    "pycharm": {
     "name": "#%%\n"
    }
   },
   "outputs": [],
   "source": [
    "import numpy as np\n",
    "from time import time\n",
    "import sys"
   ]
  },
  {
   "cell_type": "markdown",
   "id": "eadf122a-91ab-4587-9776-55cda2426430",
   "metadata": {
    "pycharm": {
     "name": "#%% md\n"
    }
   },
   "source": [
    "Numpy: To compute everything in linear Algebra and little bit of probability\n",
    "central core: Numpy array"
   ]
  },
  {
   "cell_type": "code",
   "execution_count": 2,
   "id": "d09f94cc-4381-4f90-a2c4-39f531fe9e37",
   "metadata": {
    "pycharm": {
     "name": "#%%\n"
    }
   },
   "outputs": [
    {
     "name": "stdout",
     "output_type": "stream",
     "text": [
      "[1 2 3 4]\n"
     ]
    }
   ],
   "source": [
    "# one dimension array:\n",
    "a1d = np.array([1, 2, 3, 4])\n",
    "print(a1d)"
   ]
  },
  {
   "cell_type": "code",
   "execution_count": 3,
   "id": "1d6f5508-6ac0-498e-a5f7-a8e818b681cf",
   "metadata": {
    "pycharm": {
     "name": "#%%\n"
    }
   },
   "outputs": [
    {
     "data": {
      "text/plain": [
       "array([[1, 2],\n",
       "       [3, 4]])"
      ]
     },
     "execution_count": 3,
     "metadata": {},
     "output_type": "execute_result"
    }
   ],
   "source": [
    "# two dimension array:\n",
    "a2d = np.array([[1,2], [3, 4]])\n",
    "a2d"
   ]
  },
  {
   "cell_type": "code",
   "execution_count": 4,
   "id": "cabbcc1a-24c6-4abf-a26a-c8929255a4d7",
   "metadata": {
    "pycharm": {
     "name": "#%%\n"
    }
   },
   "outputs": [
    {
     "data": {
      "text/plain": [
       "array([[[1, 2],\n",
       "        [3, 4]],\n",
       "\n",
       "       [[5, 6],\n",
       "        [7, 8]]])"
      ]
     },
     "execution_count": 4,
     "metadata": {},
     "output_type": "execute_result"
    }
   ],
   "source": [
    "# 3 dimension array:\n",
    "a3d = np.array([[[1, 2], [3, 4]], [[5, 6], [7, 8]]])  # important all of them should be in []\n",
    "a3d"
   ]
  },
  {
   "cell_type": "code",
   "execution_count": 5,
   "id": "5004bdf1-471b-419c-89e9-575e246043d2",
   "metadata": {
    "pycharm": {
     "name": "#%%\n"
    }
   },
   "outputs": [
    {
     "name": "stdout",
     "output_type": "stream",
     "text": [
      "[ 120  127 -128 -127    4]\n"
     ]
    }
   ],
   "source": [
    "dt = np.array([120, 127, 128, 129, 260], dtype=np.int8)  # *important pay attention to the output \n",
    "#becuase int8 is assigned data type and it delegate on bit to sign of the number\n",
    "# np.int8: signed\n",
    "# np.uint8 : unsigned ==> can not take negative numbers\n",
    "dt\n",
    "print(dt)"
   ]
  },
  {
   "cell_type": "code",
   "execution_count": 6,
   "id": "c3479e23-8a3e-441f-92c0-0aad305454a5",
   "metadata": {
    "pycharm": {
     "name": "#%%\n"
    }
   },
   "outputs": [
    {
     "name": "stdout",
     "output_type": "stream",
     "text": [
      "[4294967293 4294967293 4294967293] uint32\n"
     ]
    }
   ],
   "source": [
    "a = np.array([1, 2, 3,], dtype=np.uint32)\n",
    "b = np.array([4, 5, 6], dtype=np.uint32)\n",
    "c = a - b\n",
    "print(c , c.dtype)  # because a and b are unsinged so c is unsigned too, therefore it can not take negative numbers"
   ]
  },
  {
   "cell_type": "code",
   "execution_count": 7,
   "id": "23e42e57-c872-41b6-b9e6-ca38eab147a0",
   "metadata": {
    "pycharm": {
     "name": "#%%\n"
    }
   },
   "outputs": [
    {
     "name": "stdout",
     "output_type": "stream",
     "text": [
      "[-3 -3 -3] int64\n"
     ]
    }
   ],
   "source": [
    "c_signed64 = a - b.astype(np.int32)  # .astype(np.datatype) change the data type\n",
    "print(c_signed64, c_signed64.dtype)  # becuase a is unsigned so c is converted to int64 \n",
    "# that can covere all interval"
   ]
  },
  {
   "cell_type": "code",
   "execution_count": 8,
   "id": "47381120-af7e-4965-b936-b9d7cc6d3ee7",
   "metadata": {
    "pycharm": {
     "name": "#%%\n"
    }
   },
   "outputs": [
    {
     "name": "stdout",
     "output_type": "stream",
     "text": [
      "[0 1 2 3 4 5 6 7 8 9]\n",
      "[ 1.  2.  3.  4.  5.  6.  7.  8.  9. 10.]\n"
     ]
    }
   ],
   "source": [
    "range_10 = np.arange(10)\n",
    "print(range_10)\n",
    "range_ = np.arange(1, 11, dtype=float)\n",
    "print(range_)"
   ]
  },
  {
   "cell_type": "code",
   "execution_count": 9,
   "id": "48957b26-333c-4529-80ee-206796a59f55",
   "metadata": {
    "pycharm": {
     "name": "#%%\n"
    }
   },
   "outputs": [
    {
     "data": {
      "text/plain": [
       "array([1. , 1.6, 2.2, 2.8, 3.4, 4. ])"
      ]
     },
     "execution_count": 9,
     "metadata": {},
     "output_type": "execute_result"
    }
   ],
   "source": [
    "np.linspace(1., 4., 6)"
   ]
  },
  {
   "cell_type": "code",
   "execution_count": 10,
   "id": "233b3f59-9f6e-4b0a-90cf-aa8e5c31836d",
   "metadata": {
    "pycharm": {
     "name": "#%%\n"
    }
   },
   "outputs": [
    {
     "data": {
      "text/plain": [
       "array([[1., 0., 0., 0.],\n",
       "       [0., 1., 0., 0.],\n",
       "       [0., 0., 1., 0.],\n",
       "       [0., 0., 0., 1.]])"
      ]
     },
     "execution_count": 10,
     "metadata": {},
     "output_type": "execute_result"
    }
   ],
   "source": [
    "np.eye(4)"
   ]
  },
  {
   "cell_type": "code",
   "execution_count": 11,
   "id": "77bda453-44d3-4a93-9ff1-8d0ce259f51c",
   "metadata": {
    "pycharm": {
     "name": "#%%\n"
    }
   },
   "outputs": [
    {
     "data": {
      "text/plain": [
       "array([[1., 0., 0., 0., 0.],\n",
       "       [0., 1., 0., 0., 0.],\n",
       "       [0., 0., 1., 0., 0.]])"
      ]
     },
     "execution_count": 11,
     "metadata": {},
     "output_type": "execute_result"
    }
   ],
   "source": [
    "np.eye(3, 5) # matrix 3*5"
   ]
  },
  {
   "cell_type": "code",
   "execution_count": 12,
   "id": "dd7924bf-758d-4991-bf71-a61d38edbe7a",
   "metadata": {
    "pycharm": {
     "name": "#%%\n"
    }
   },
   "outputs": [
    {
     "data": {
      "text/plain": [
       "array([[1, 0, 0],\n",
       "       [0, 2, 0],\n",
       "       [0, 0, 3]])"
      ]
     },
     "execution_count": 12,
     "metadata": {},
     "output_type": "execute_result"
    }
   ],
   "source": [
    "np.diag([1, 2, 3])"
   ]
  },
  {
   "cell_type": "code",
   "execution_count": 13,
   "id": "ea0ac3a9-a367-4e75-a481-aca702ba36ec",
   "metadata": {
    "pycharm": {
     "name": "#%%\n"
    }
   },
   "outputs": [
    {
     "data": {
      "text/plain": [
       "array([[-3,  0],\n",
       "       [ 0, -4]])"
      ]
     },
     "execution_count": 13,
     "metadata": {},
     "output_type": "execute_result"
    }
   ],
   "source": [
    "np.diag((-3, -4))"
   ]
  },
  {
   "cell_type": "code",
   "execution_count": 14,
   "id": "5e255fea-faad-4d02-872f-71c74c9a8d0d",
   "metadata": {
    "pycharm": {
     "name": "#%%\n"
    }
   },
   "outputs": [
    {
     "name": "stdout",
     "output_type": "stream",
     "text": [
      "[[0 1 0 0]\n",
      " [0 0 2 0]\n",
      " [0 0 0 3]\n",
      " [0 0 0 0]]\n",
      "[[0 0 0 0 0]\n",
      " [0 0 0 0 0]\n",
      " [1 0 0 0 0]\n",
      " [0 5 0 0 0]\n",
      " [0 0 6 0 0]]\n"
     ]
    }
   ],
   "source": [
    "print(np.diag([1, 2, 3], 1))  # second parameter shift the matrix to right\n",
    "# if gives it a negative number it is shifted to left.\n",
    "print(np.diag([1, 5, 6], -2))"
   ]
  },
  {
   "cell_type": "code",
   "execution_count": 15,
   "id": "941b94a5-47de-455f-bdb6-1fd0749c347d",
   "metadata": {
    "pycharm": {
     "name": "#%%\n"
    }
   },
   "outputs": [
    {
     "name": "stdout",
     "output_type": "stream",
     "text": [
      "[[0 1 2]\n",
      " [3 4 5]\n",
      " [6 7 8]]\n",
      "====================\n",
      "[0 4 8]\n",
      "====================\n",
      "[1 5]\n",
      "====================\n",
      "[2]\n",
      "====================\n",
      "[6]\n"
     ]
    }
   ],
   "source": [
    "e_matrix = np.arange(9).reshape(3,3)\n",
    "print(e_matrix)\n",
    "print('='*20)\n",
    "print(np.diag(e_matrix))\n",
    "print('='*20)\n",
    "print(np.diag(e_matrix, 1))\n",
    "print('='*20)\n",
    "print(np.diag(e_matrix, 2))\n",
    "print('='*20)\n",
    "print(np.diag(e_matrix, -2))"
   ]
  },
  {
   "cell_type": "code",
   "execution_count": 16,
   "id": "f1958e18-bb7a-41d9-87b0-98bb2b9192ca",
   "metadata": {
    "pycharm": {
     "name": "#%%\n"
    }
   },
   "outputs": [
    {
     "data": {
      "text/plain": [
       "array([[0., 0., 0.],\n",
       "       [0., 0., 0.]])"
      ]
     },
     "execution_count": 16,
     "metadata": {},
     "output_type": "execute_result"
    }
   ],
   "source": [
    "np.zeros((2, 3))"
   ]
  },
  {
   "cell_type": "code",
   "execution_count": 17,
   "id": "3441463e-0e74-43dd-a922-bf948caa61d8",
   "metadata": {
    "pycharm": {
     "name": "#%%\n"
    }
   },
   "outputs": [
    {
     "data": {
      "text/plain": [
       "array([[[0., 0.],\n",
       "        [0., 0.],\n",
       "        [0., 0.]],\n",
       "\n",
       "       [[0., 0.],\n",
       "        [0., 0.],\n",
       "        [0., 0.]]])"
      ]
     },
     "execution_count": 17,
     "metadata": {},
     "output_type": "execute_result"
    }
   ],
   "source": [
    "np.zeros((2, 3, 2))"
   ]
  },
  {
   "cell_type": "code",
   "execution_count": 18,
   "id": "b8896478-4f27-4705-a018-4e995a25b96b",
   "metadata": {
    "pycharm": {
     "name": "#%%\n"
    }
   },
   "outputs": [
    {
     "data": {
      "text/plain": [
       "array([[1., 1.],\n",
       "       [1., 1.]])"
      ]
     },
     "execution_count": 18,
     "metadata": {},
     "output_type": "execute_result"
    }
   ],
   "source": [
    "np.ones((2,2))"
   ]
  },
  {
   "cell_type": "code",
   "execution_count": 19,
   "id": "cdd71910-510a-41b2-861f-682395eb921e",
   "metadata": {
    "pycharm": {
     "name": "#%%\n"
    }
   },
   "outputs": [
    {
     "data": {
      "text/plain": [
       "array([[[1., 1.],\n",
       "        [1., 1.]],\n",
       "\n",
       "       [[1., 1.],\n",
       "        [1., 1.]]])"
      ]
     },
     "execution_count": 19,
     "metadata": {},
     "output_type": "execute_result"
    }
   ],
   "source": [
    "np.ones((2, 2, 2))"
   ]
  },
  {
   "cell_type": "code",
   "execution_count": 20,
   "id": "09c1bd3f-0873-43ae-a548-a16c6bb87bcd",
   "metadata": {
    "pycharm": {
     "name": "#%%\n"
    }
   },
   "outputs": [
    {
     "data": {
      "text/plain": [
       "array([[[1., 1., 1.],\n",
       "        [1., 1., 1.]],\n",
       "\n",
       "       [[1., 1., 1.],\n",
       "        [1., 1., 1.]]])"
      ]
     },
     "execution_count": 20,
     "metadata": {},
     "output_type": "execute_result"
    }
   ],
   "source": [
    "np.ones((2, 2, 3))"
   ]
  },
  {
   "cell_type": "code",
   "execution_count": 21,
   "id": "744366df-c78c-4489-bff4-ab69ceccf37a",
   "metadata": {
    "pycharm": {
     "name": "#%%\n"
    }
   },
   "outputs": [
    {
     "name": "stdout",
     "output_type": "stream",
     "text": [
      "[1 2 3 4 5]\n",
      "[1 2]\n"
     ]
    }
   ],
   "source": [
    "a = np.array([1, 2, 3, 4, 5])\n",
    "print(a)\n",
    "b = a[:2]\n",
    "print(b)\n"
   ]
  },
  {
   "cell_type": "code",
   "execution_count": 22,
   "id": "e0b6e2e9-ebf2-4ecf-9528-f556f0cc9735",
   "metadata": {
    "pycharm": {
     "name": "#%%\n"
    }
   },
   "outputs": [
    {
     "name": "stdout",
     "output_type": "stream",
     "text": [
      "[2 3]\n",
      "[2 3 3 4 5]\n"
     ]
    }
   ],
   "source": [
    "b += 1\n",
    "print(b)\n",
    "print(a)"
   ]
  },
  {
   "cell_type": "code",
   "execution_count": 23,
   "id": "cb02d0f8-33bc-4326-bc20-5cc039562cc3",
   "metadata": {
    "pycharm": {
     "name": "#%%\n"
    }
   },
   "outputs": [
    {
     "name": "stdout",
     "output_type": "stream",
     "text": [
      "[1 2 3 4]\n",
      "[2 3]\n"
     ]
    }
   ],
   "source": [
    "a = np.array([1, 2, 3, 4])\n",
    "b = a[:2].copy()\n",
    "b += 1  # it won't change a\n",
    "print(a)\n",
    "print(b)\n"
   ]
  },
  {
   "cell_type": "code",
   "execution_count": 24,
   "id": "42f5d1ca-2c7e-41a2-a2ae-cb2c86e062f4",
   "metadata": {
    "pycharm": {
     "name": "#%%\n"
    }
   },
   "outputs": [
    {
     "name": "stdout",
     "output_type": "stream",
     "text": [
      "A\n",
      "[[1. 1.]\n",
      " [1. 1.]]\n",
      "B\n",
      "[[0. 0.]\n",
      " [0. 0.]]\n",
      "C\n",
      "[[1. 1.]\n",
      " [1. 1.]]\n",
      "C\n",
      "[[-3  0]\n",
      " [ 0 -4]]\n"
     ]
    },
    {
     "data": {
      "text/plain": [
       "array([[ 1.,  1.,  0.,  0.],\n",
       "       [ 1.,  1.,  0.,  0.],\n",
       "       [ 1.,  1., -3.,  0.],\n",
       "       [ 1.,  1.,  0., -4.]])"
      ]
     },
     "execution_count": 24,
     "metadata": {},
     "output_type": "execute_result"
    }
   ],
   "source": [
    "A = np.ones((2, 2))\n",
    "B = np.zeros((2,2))\n",
    "print('A')\n",
    "print(A)\n",
    "print('B')\n",
    "print(B)\n",
    "C = np.ones((2, 2))\n",
    "print('C')\n",
    "print(C)\n",
    "D = np.diag([-3, -4])\n",
    "print('C')\n",
    "print(D)\n",
    "np.block([[A, B], [C, D]])  \n",
    "#  *important: all the input array dimensions for the concatenation axis must match exactly, but along dimension 0,\n",
    "# the array at index 0 has size 3 and the array at index 1 has size 2"
   ]
  },
  {
   "cell_type": "code",
   "execution_count": 25,
   "id": "76fccc4a-a9eb-4c3c-b113-ffd9e7625f7f",
   "metadata": {
    "pycharm": {
     "name": "#%%\n"
    }
   },
   "outputs": [
    {
     "data": {
      "text/plain": [
       "array([[ 0,  1,  2,  3,  4],\n",
       "       [ 6,  7,  8,  9, 10]])"
      ]
     },
     "execution_count": 25,
     "metadata": {},
     "output_type": "execute_result"
    }
   ],
   "source": [
    "a = np.arange(5)\n",
    "c = np.arange(6, 11)\n",
    "np.vstack((a, c))"
   ]
  },
  {
   "cell_type": "code",
   "execution_count": 26,
   "id": "5e9ff983-7377-4102-8fad-05266bbd3442",
   "metadata": {
    "pycharm": {
     "name": "#%%\n"
    }
   },
   "outputs": [
    {
     "data": {
      "text/plain": [
       "array([ 0,  1,  2,  3,  4,  6,  7,  8,  9, 10])"
      ]
     },
     "execution_count": 26,
     "metadata": {},
     "output_type": "execute_result"
    }
   ],
   "source": [
    "np.hstack((a, c))"
   ]
  },
  {
   "cell_type": "code",
   "execution_count": 27,
   "id": "8ec9139a-ece4-4852-b29e-3b13b8f8df79",
   "metadata": {
    "pycharm": {
     "name": "#%%\n"
    }
   },
   "outputs": [
    {
     "data": {
      "text/plain": [
       "[array([0, 1, 2]), array([3, 4, 5]), array([6, 7, 8])]"
      ]
     },
     "execution_count": 27,
     "metadata": {},
     "output_type": "execute_result"
    }
   ],
   "source": [
    "a = np.arange(9)\n",
    "np.split(a, 3)  # *important: np.aplit() each array does not have this method"
   ]
  },
  {
   "cell_type": "code",
   "execution_count": 28,
   "id": "8b67979a-6085-494d-b31d-d0c2b72572ce",
   "metadata": {
    "pycharm": {
     "name": "#%%\n"
    }
   },
   "outputs": [
    {
     "name": "stdout",
     "output_type": "stream",
     "text": [
      "[[ 0  1  2  3]\n",
      " [ 4  5  6  7]\n",
      " [ 8  9 10 11]\n",
      " [12 13 14 15]]\n"
     ]
    },
    {
     "data": {
      "text/plain": [
       "[array([[ 0,  1],\n",
       "        [ 4,  5],\n",
       "        [ 8,  9],\n",
       "        [12, 13]]),\n",
       " array([[ 2,  3],\n",
       "        [ 6,  7],\n",
       "        [10, 11],\n",
       "        [14, 15]])]"
      ]
     },
     "execution_count": 28,
     "metadata": {},
     "output_type": "execute_result"
    }
   ],
   "source": [
    "b = np.arange(16).reshape(4, 4)\n",
    "print(b)\n",
    "np.split(b, 2, axis=1)  # second parameter defines steps, axis difine if equel to 1 means y coordinates if equel to\n",
    "# 0 means x coordinate"
   ]
  },
  {
   "cell_type": "code",
   "execution_count": 29,
   "id": "076ac757-447f-4737-a951-630c982593e3",
   "metadata": {
    "pycharm": {
     "name": "#%%\n"
    }
   },
   "outputs": [
    {
     "data": {
      "text/plain": [
       "[array([0, 1]), array([2, 3, 4]), array([5, 6, 7]), array([], dtype=int32)]"
      ]
     },
     "execution_count": 29,
     "metadata": {},
     "output_type": "execute_result"
    }
   ],
   "source": [
    "z = np.arange(8)\n",
    "np.split(z, [2, 5, 10]) # second parameter define ideces for spliting"
   ]
  },
  {
   "cell_type": "code",
   "execution_count": 30,
   "id": "ef717cf6-bbf4-4eba-ab97-9f6b97dbe888",
   "metadata": {
    "pycharm": {
     "name": "#%%\n"
    }
   },
   "outputs": [
    {
     "name": "stdout",
     "output_type": "stream",
     "text": [
      "z \n",
      " [[ 0  1  2  3]\n",
      " [ 4  5  6  7]\n",
      " [ 8  9 10 11]\n",
      " [12 13 14 15]]\n",
      "vsplit \n",
      " [array([[0, 1, 2, 3],\n",
      "       [4, 5, 6, 7]]), array([[ 8,  9, 10, 11],\n",
      "       [12, 13, 14, 15]])]\n",
      "hsplit \n",
      " [array([[ 0,  1],\n",
      "       [ 4,  5],\n",
      "       [ 8,  9],\n",
      "       [12, 13]]), array([[ 2,  3],\n",
      "       [ 6,  7],\n",
      "       [10, 11],\n",
      "       [14, 15]])]\n"
     ]
    }
   ],
   "source": [
    "z = np.arange(16).reshape(4, 4)\n",
    "print('z \\n', z)\n",
    "print('vsplit \\n', np.vsplit(z, 2) )\n",
    "print('hsplit \\n', np.hsplit(z, 2) )"
   ]
  },
  {
   "cell_type": "markdown",
   "id": "de04c506",
   "metadata": {
    "pycharm": {
     "name": "#%% md\n"
    }
   },
   "source": [
    "## Array vs List"
   ]
  },
  {
   "cell_type": "markdown",
   "id": "c256c541-2b7e-43cd-aafa-d1577259b658",
   "metadata": {
    "pycharm": {
     "name": "#%% md\n"
    }
   },
   "source": [
    "NumPy Arrays are generally faster than python Lists:\n",
    "1- Array: a collection of homogeneous data-type, sorted in contiguous memory location\n",
    "2- List: a collection of heterogeneous data-type, sorted in non-contiguous memory location\n",
    "3- NumPy breaks down a task into multiple fragments and then processes all the fragments in parallel\n",
    "4- NumPy integrates c, c++, Fortran codes in python ==> very little execution time compared to Python "
   ]
  },
  {
   "cell_type": "code",
   "execution_count": 31,
   "id": "9a6bcd1c",
   "metadata": {
    "pycharm": {
     "name": "#%%\n"
    }
   },
   "outputs": [],
   "source": [
    "L = [1, 2, 3]"
   ]
  },
  {
   "cell_type": "code",
   "execution_count": 32,
   "id": "652dcef7",
   "metadata": {
    "pycharm": {
     "name": "#%%\n"
    }
   },
   "outputs": [
    {
     "data": {
      "text/plain": [
       "[1, 2, 3]"
      ]
     },
     "execution_count": 32,
     "metadata": {},
     "output_type": "execute_result"
    }
   ],
   "source": [
    "L"
   ]
  },
  {
   "cell_type": "code",
   "execution_count": 33,
   "id": "75d4f8c6",
   "metadata": {
    "pycharm": {
     "name": "#%%\n"
    }
   },
   "outputs": [],
   "source": [
    "A = np.array([1, 2, 3])"
   ]
  },
  {
   "cell_type": "code",
   "execution_count": 34,
   "id": "4f10ac7b",
   "metadata": {
    "pycharm": {
     "name": "#%%\n"
    }
   },
   "outputs": [
    {
     "data": {
      "text/plain": [
       "[1, 2, 3]"
      ]
     },
     "execution_count": 34,
     "metadata": {},
     "output_type": "execute_result"
    }
   ],
   "source": [
    "L"
   ]
  },
  {
   "cell_type": "code",
   "execution_count": 35,
   "id": "27124b99",
   "metadata": {
    "pycharm": {
     "name": "#%%\n"
    }
   },
   "outputs": [
    {
     "data": {
      "text/plain": [
       "[1, 2, 3, 4]"
      ]
     },
     "execution_count": 35,
     "metadata": {},
     "output_type": "execute_result"
    }
   ],
   "source": [
    "L.append(4)\n",
    "L"
   ]
  },
  {
   "cell_type": "code",
   "execution_count": 36,
   "id": "a6023b40",
   "metadata": {
    "pycharm": {
     "name": "#%%\n"
    }
   },
   "outputs": [],
   "source": [
    "# A.append(4)  # np.array does not have append attribute \n",
    "            # append() method is defined on module space or global"
   ]
  },
  {
   "cell_type": "code",
   "execution_count": 37,
   "id": "69a10797",
   "metadata": {
    "pycharm": {
     "name": "#%%\n"
    }
   },
   "outputs": [
    {
     "data": {
      "text/plain": [
       "[1, 2, 3, 4]"
      ]
     },
     "execution_count": 37,
     "metadata": {},
     "output_type": "execute_result"
    }
   ],
   "source": [
    "L + [4]\n",
    "L"
   ]
  },
  {
   "cell_type": "code",
   "execution_count": 38,
   "id": "0c833cba",
   "metadata": {
    "pycharm": {
     "name": "#%%\n"
    }
   },
   "outputs": [
    {
     "data": {
      "text/plain": [
       "array([5, 6, 7])"
      ]
     },
     "execution_count": 38,
     "metadata": {},
     "output_type": "execute_result"
    }
   ],
   "source": [
    "A = A + np.array([4])  \n",
    "A\n"
   ]
  },
  {
   "cell_type": "code",
   "execution_count": 39,
   "id": "d171c1b4",
   "metadata": {
    "pycharm": {
     "name": "#%%\n"
    }
   },
   "outputs": [
    {
     "data": {
      "text/plain": [
       "array([5, 6, 7])"
      ]
     },
     "execution_count": 39,
     "metadata": {},
     "output_type": "execute_result"
    }
   ],
   "source": [
    "A + np.array([5])\n",
    "A   # pay attention A does not change"
   ]
  },
  {
   "cell_type": "code",
   "execution_count": 40,
   "id": "d4e624af",
   "metadata": {
    "pycharm": {
     "name": "#%%\n"
    }
   },
   "outputs": [
    {
     "data": {
      "text/plain": [
       "array([ 6,  8, 10])"
      ]
     },
     "execution_count": 40,
     "metadata": {},
     "output_type": "execute_result"
    }
   ],
   "source": [
    "A + np.array([1, 2, 3])  # each element is added peer to peer"
   ]
  },
  {
   "cell_type": "code",
   "execution_count": 41,
   "id": "d0ba3fb9",
   "metadata": {
    "pycharm": {
     "name": "#%%\n"
    }
   },
   "outputs": [],
   "source": [
    "# A + np.array([1,2])  # because shapes are not equal it brings an error"
   ]
  },
  {
   "cell_type": "code",
   "execution_count": 42,
   "id": "378f6f5e",
   "metadata": {
    "pycharm": {
     "name": "#%%\n"
    }
   },
   "outputs": [
    {
     "data": {
      "text/plain": [
       "[1, 2, 3, 4, 1, 2, 3, 4]"
      ]
     },
     "execution_count": 42,
     "metadata": {},
     "output_type": "execute_result"
    }
   ],
   "source": [
    "L * 2"
   ]
  },
  {
   "cell_type": "code",
   "execution_count": 43,
   "id": "6e95145e",
   "metadata": {
    "pycharm": {
     "name": "#%%\n"
    }
   },
   "outputs": [
    {
     "data": {
      "text/plain": [
       "array([10, 12, 14])"
      ]
     },
     "execution_count": 43,
     "metadata": {},
     "output_type": "execute_result"
    }
   ],
   "source": [
    "A * 2"
   ]
  },
  {
   "cell_type": "code",
   "execution_count": 44,
   "id": "33e3197e",
   "metadata": {
    "pycharm": {
     "name": "#%%\n"
    }
   },
   "outputs": [
    {
     "data": {
      "text/plain": [
       "[2, 4, 6, 8]"
      ]
     },
     "execution_count": 44,
     "metadata": {},
     "output_type": "execute_result"
    }
   ],
   "source": [
    "[i*2 for i in L]"
   ]
  },
  {
   "cell_type": "code",
   "execution_count": 45,
   "id": "b858985b",
   "metadata": {
    "pycharm": {
     "name": "#%%\n"
    }
   },
   "outputs": [
    {
     "data": {
      "text/plain": [
       "array([2.23606798, 2.44948974, 2.64575131])"
      ]
     },
     "execution_count": 45,
     "metadata": {},
     "output_type": "execute_result"
    }
   ],
   "source": [
    "np.sqrt(A)"
   ]
  },
  {
   "cell_type": "code",
   "execution_count": 46,
   "id": "1ec26a41",
   "metadata": {
    "pycharm": {
     "name": "#%%\n"
    }
   },
   "outputs": [
    {
     "data": {
      "text/plain": [
       "array([1.60943791, 1.79175947, 1.94591015])"
      ]
     },
     "execution_count": 46,
     "metadata": {},
     "output_type": "execute_result"
    }
   ],
   "source": [
    "np.log(A)"
   ]
  },
  {
   "cell_type": "code",
   "execution_count": 47,
   "id": "46c09475",
   "metadata": {
    "pycharm": {
     "name": "#%%\n"
    }
   },
   "outputs": [
    {
     "data": {
      "text/plain": [
       "array([ 148.4131591 ,  403.42879349, 1096.63315843])"
      ]
     },
     "execution_count": 47,
     "metadata": {},
     "output_type": "execute_result"
    }
   ],
   "source": [
    "np.exp(A)"
   ]
  },
  {
   "cell_type": "code",
   "execution_count": 48,
   "id": "647a5662",
   "metadata": {
    "pycharm": {
     "name": "#%%\n"
    }
   },
   "outputs": [
    {
     "data": {
      "text/plain": [
       "array([0.9999092 , 0.99998771, 0.99999834])"
      ]
     },
     "execution_count": 48,
     "metadata": {},
     "output_type": "execute_result"
    }
   ],
   "source": [
    "np.tanh(A)"
   ]
  },
  {
   "cell_type": "code",
   "execution_count": 49,
   "id": "6aa42b79",
   "metadata": {
    "pycharm": {
     "name": "#%%\n"
    }
   },
   "outputs": [],
   "source": [
    "rArray = np.random.rand(1000_000)  # it creates 1_000_000 random numbers in np.array\n",
    "rList = list(rArray)  # we make a list that contain 1_000_000 random numbers\n"
   ]
  },
  {
   "cell_type": "code",
   "execution_count": 50,
   "id": "d6d1c163",
   "metadata": {
    "pycharm": {
     "name": "#%%\n"
    }
   },
   "outputs": [
    {
     "name": "stdout",
     "output_type": "stream",
     "text": [
      "computing the mean using array 0.49985326154067705\n",
      "computation time is 0.0019931793212890625 \n"
     ]
    }
   ],
   "source": [
    "sTime = time()\n",
    "mean_r_array= np.mean(rArray)\n",
    "eTime = time()\n",
    "print(f'computing the mean using array {mean_r_array}')\n",
    "print(f'computation time is {eTime - sTime} ')"
   ]
  },
  {
   "cell_type": "code",
   "execution_count": 51,
   "id": "48fe6915",
   "metadata": {
    "pycharm": {
     "name": "#%%\n"
    }
   },
   "outputs": [
    {
     "name": "stdout",
     "output_type": "stream",
     "text": [
      "computing the mean using list 0.49985326154067705\n",
      "computation time is 0.04587578773498535 \n"
     ]
    }
   ],
   "source": [
    "sTime = time()\n",
    "mean_r_list = np.mean(rList)\n",
    "eTime = time()\n",
    "print(f'computing the mean using list {mean_r_list}')\n",
    "print(f'computation time is {eTime - sTime} ')"
   ]
  },
  {
   "cell_type": "markdown",
   "id": "6f072a9a",
   "metadata": {
    "pycharm": {
     "name": "#%% md\n"
    }
   },
   "source": [
    "## as you can see above the time for computation in np.array is less than that of for list"
   ]
  },
  {
   "cell_type": "code",
   "execution_count": 52,
   "id": "6810711d",
   "metadata": {
    "pycharm": {
     "name": "#%%\n"
    }
   },
   "outputs": [
    {
     "name": "stdout",
     "output_type": "stream",
     "text": [
      "0.09275126457214355\n"
     ]
    }
   ],
   "source": [
    "sTime = time()\n",
    "sum = 0\n",
    "for i in rList:\n",
    "    sum += i\n",
    "mean = sum / len(rList)\n",
    "eTime = time()\n",
    "print(eTime-sTime)\n"
   ]
  },
  {
   "cell_type": "code",
   "execution_count": 53,
   "id": "a11a763d",
   "metadata": {
    "pycharm": {
     "name": "#%%\n"
    }
   },
   "outputs": [],
   "source": [
    "def numpy_append():\n",
    "    arr = np.empty((1, 0), int)  # creating an empty array\n",
    "    for i in range(100000):\n",
    "        np.append(arr, np.array(i))\n",
    "    return arr"
   ]
  },
  {
   "cell_type": "code",
   "execution_count": 54,
   "id": "0ebd0f7e",
   "metadata": {
    "pycharm": {
     "name": "#%%\n"
    }
   },
   "outputs": [],
   "source": [
    "def list_append():\n",
    "    list_1 = list()\n",
    "    for i in range(100000):\n",
    "        list_1.append(i)\n",
    "    return list_1"
   ]
  },
  {
   "cell_type": "code",
   "execution_count": 55,
   "id": "63b33066",
   "metadata": {
    "pycharm": {
     "name": "#%%\n"
    }
   },
   "outputs": [],
   "source": [
    "def main():\n",
    "    start1 = time()\n",
    "    new_np_arr = numpy_append()\n",
    "    end1 = time()\n",
    "    print(f'computation time of numpy array is {end1 - start1}')\n",
    "\n",
    "    start2 = time()\n",
    "    new_list = list_append()\n",
    "    end2 = time()\n",
    "    print(f'computation time of list is {end2 - start2}')\n",
    "\n",
    "\n"
   ]
  },
  {
   "cell_type": "code",
   "execution_count": 56,
   "id": "9641c4b1",
   "metadata": {
    "pycharm": {
     "name": "#%%\n"
    }
   },
   "outputs": [
    {
     "name": "stdout",
     "output_type": "stream",
     "text": [
      "computation time of numpy array is 0.33211278915405273\n",
      "computation time of list is 0.004986286163330078\n"
     ]
    }
   ],
   "source": [
    "if __name__ == \"__main__\":\n",
    "    main()"
   ]
  },
  {
   "cell_type": "markdown",
   "id": "13aad8e1",
   "metadata": {
    "pycharm": {
     "name": "#%% md\n"
    }
   },
   "source": [
    "# ass you can see above the time for list is less than np array\n",
    "because np.array does not in-place but python list is in-place\n",
    "for array manipulation python list is better than np.list"
   ]
  },
  {
   "cell_type": "code",
   "execution_count": 57,
   "id": "614dc459",
   "metadata": {
    "pycharm": {
     "name": "#%%\n"
    }
   },
   "outputs": [
    {
     "name": "stdout",
     "output_type": "stream",
     "text": [
      "size of the whole list in byte  8056\n",
      "size of the whole np.array in byte  4112\n"
     ]
    }
   ],
   "source": [
    "S = list(range(1000))\n",
    "print('size of the whole list in byte ', sys.getsizeof(S) )\n",
    "D = np.arange(1000)\n",
    "print('size of the whole np.array in byte ', sys.getsizeof(D))"
   ]
  },
  {
   "cell_type": "markdown",
   "id": "6d40e5f0",
   "metadata": {
    "pycharm": {
     "name": "#%% md\n"
    }
   },
   "source": []
  },
  {
   "cell_type": "code",
   "execution_count": 58,
   "id": "1bfc4b31",
   "metadata": {
    "pycharm": {
     "name": "#%%\n"
    }
   },
   "outputs": [
    {
     "name": "stdout",
     "output_type": "stream",
     "text": [
      "constructor size is  136\n",
      "literal size is  136\n"
     ]
    }
   ],
   "source": [
    "l1_constructor = list(range(10))\n",
    "l2_literal = [0, 1, 2, 3, 4, 5, 6, 7, 8, 9]\n",
    "print('constructor size is ', sys.getsizeof(l1_constructor))\n",
    "print('literal size is ', sys.getsizeof(l2_literal))"
   ]
  },
  {
   "cell_type": "markdown",
   "id": "06de7372",
   "metadata": {
    "pycharm": {
     "name": "#%% md\n"
    }
   },
   "source": [
    "## the dot production video 5\n",
    "|:-:| "
   ]
  },
  {
   "cell_type": "code",
   "execution_count": 59,
   "id": "8a3955a4",
   "metadata": {
    "pycharm": {
     "name": "#%%\n"
    }
   },
   "outputs": [],
   "source": [
    "a = np.array([1, 2])\n",
    "b = np.array([3, 4])"
   ]
  },
  {
   "cell_type": "code",
   "execution_count": 60,
   "id": "db34740d",
   "metadata": {
    "pycharm": {
     "name": "#%%\n"
    }
   },
   "outputs": [
    {
     "name": "stdout",
     "output_type": "stream",
     "text": [
      "[1 2]\n",
      "[3 4]\n"
     ]
    },
    {
     "data": {
      "text/plain": [
       "11"
      ]
     },
     "execution_count": 60,
     "metadata": {},
     "output_type": "execute_result"
    }
   ],
   "source": [
    "print(a)\n",
    "print(b)\n",
    "np.dot(a, b)  # this a pythonic way for computing dot production"
   ]
  },
  {
   "cell_type": "code",
   "execution_count": 61,
   "id": "1a72ada8",
   "metadata": {
    "pycharm": {
     "name": "#%%\n"
    }
   },
   "outputs": [
    {
     "data": {
      "text/plain": [
       "11"
      ]
     },
     "execution_count": 61,
     "metadata": {},
     "output_type": "execute_result"
    }
   ],
   "source": [
    "# this is not a pythonic way for computing dot production!!!!\n",
    "dot = 0\n",
    "for x, y in zip(a, b):\n",
    "    dot += (x*y)\n",
    "dot"
   ]
  },
  {
   "cell_type": "markdown",
   "id": "f1b9b86c",
   "metadata": {
    "pycharm": {
     "name": "#%% md\n"
    }
   },
   "source": [
    "## computing second norm of an array"
   ]
  },
  {
   "cell_type": "code",
   "execution_count": 62,
   "id": "39faf51c",
   "metadata": {
    "pycharm": {
     "name": "#%%\n"
    }
   },
   "outputs": [
    {
     "data": {
      "text/plain": [
       "2.23606797749979"
      ]
     },
     "execution_count": 62,
     "metadata": {},
     "output_type": "execute_result"
    }
   ],
   "source": [
    "meg = np.sqrt((a*a).sum())\n",
    "meg"
   ]
  },
  {
   "cell_type": "markdown",
   "id": "6823138f",
   "metadata": {
    "pycharm": {
     "name": "#%% md\n"
    }
   },
   "source": [
    "### computing angle between two vectors"
   ]
  },
  {
   "cell_type": "code",
   "execution_count": 63,
   "id": "9331eab1",
   "metadata": {
    "pycharm": {
     "name": "#%%\n"
    }
   },
   "outputs": [
    {
     "data": {
      "text/plain": [
       "0.9838699100999074"
      ]
     },
     "execution_count": 63,
     "metadata": {},
     "output_type": "execute_result"
    }
   ],
   "source": [
    "cos_angle = np.dot(a, b) / (np.linalg.norm(a) * np.linalg.norm(b))  \n",
    "# calculating the cos of angle\n",
    "cos_angle"
   ]
  },
  {
   "cell_type": "code",
   "execution_count": 64,
   "id": "9e2729f7",
   "metadata": {
    "pycharm": {
     "name": "#%%\n"
    }
   },
   "outputs": [
    {
     "data": {
      "text/plain": [
       "0.17985349979247847"
      ]
     },
     "execution_count": 64,
     "metadata": {},
     "output_type": "execute_result"
    }
   ],
   "source": [
    "# calculating the angle \n",
    "angle = np.arccos(cos_angle)\n",
    "angle  # pay attention that np.arccos() returns radians"
   ]
  },
  {
   "cell_type": "markdown",
   "id": "2ff4bce8",
   "metadata": {
    "pycharm": {
     "name": "#%% md\n"
    }
   },
   "source": [
    "### test speed between Python and NumPy"
   ]
  },
  {
   "cell_type": "code",
   "execution_count": 65,
   "id": "88e4f5e7",
   "metadata": {
    "pycharm": {
     "name": "#%%\n"
    }
   },
   "outputs": [
    {
     "name": "stdout",
     "output_type": "stream",
     "text": [
      "2.0584986209869385\n",
      "0.10272550582885742\n",
      "dt1/ dt2 : 20.038826816939068\n"
     ]
    }
   ],
   "source": [
    "from numpy.random.mtrand import random\n",
    "import random\n",
    "\n",
    "a = np.random.randn(100)\n",
    "b = np.random.randn(100)\n",
    "\n",
    "T = 100_000\n",
    "\n",
    "def python_dot_production(a, b):\n",
    "    dot = 0\n",
    "    for x, y in zip(a, b):\n",
    "        dot += x*y\n",
    "    return dot\n",
    "\n",
    "dt0 = time()\n",
    "\n",
    "for i in range(T):\n",
    "    python_dot_production(a, b)\n",
    "\n",
    "dt1 = time() - dt0\n",
    "dt0 = time()\n",
    "for i in range(T):\n",
    "    np.dot(a, b)\n",
    "\n",
    "dt2 = time() - dt0\n",
    "\n",
    "print(dt1)\n",
    "print(dt2)\n",
    "print(f'dt1/ dt2 : {dt1/dt2}')\n"
   ]
  },
  {
   "cell_type": "markdown",
   "id": "2901f3c0",
   "metadata": {
    "pycharm": {
     "name": "#%% md\n"
    }
   },
   "source": [
    "#### pay attention that np.dot() calculate 20 times faster a dot production than python "
   ]
  },
  {
   "cell_type": "code",
   "execution_count": 66,
   "id": "97a60b2b",
   "metadata": {
    "pycharm": {
     "name": "#%%\n"
    }
   },
   "outputs": [
    {
     "data": {
      "text/plain": [
       "2"
      ]
     },
     "execution_count": 66,
     "metadata": {},
     "output_type": "execute_result"
    }
   ],
   "source": [
    "L = [[1, 2], [3, 4]]\n",
    "L[0][1]  # in python list [][] are indexes"
   ]
  },
  {
   "cell_type": "code",
   "execution_count": 67,
   "id": "436d4b6f",
   "metadata": {
    "pycharm": {
     "name": "#%%\n"
    }
   },
   "outputs": [
    {
     "name": "stdout",
     "output_type": "stream",
     "text": [
      "[[1 2]\n",
      " [3 4]]\n"
     ]
    },
    {
     "data": {
      "text/plain": [
       "2"
      ]
     },
     "execution_count": 67,
     "metadata": {},
     "output_type": "execute_result"
    }
   ],
   "source": [
    "A = np.array([[1, 2], [3, 4]])\n",
    "print(A)\n",
    "A[0][1]  # in np.array [][] coordinates"
   ]
  },
  {
   "cell_type": "code",
   "execution_count": 68,
   "id": "4f2fd928",
   "metadata": {
    "pycharm": {
     "name": "#%%\n"
    }
   },
   "outputs": [
    {
     "data": {
      "text/plain": [
       "array([[11, 14],\n",
       "       [27, 34]])"
      ]
     },
     "execution_count": 68,
     "metadata": {},
     "output_type": "execute_result"
    }
   ],
   "source": [
    "B = np.array([[5, 6], [3, 4]])\n",
    "A.dot(B)  # for inner() production the number of columns of A must be equal to the number of B rows "
   ]
  },
  {
   "cell_type": "code",
   "execution_count": 69,
   "id": "9e41405a",
   "metadata": {
    "pycharm": {
     "name": "#%%\n"
    }
   },
   "outputs": [
    {
     "data": {
      "text/plain": [
       "3"
      ]
     },
     "execution_count": 69,
     "metadata": {},
     "output_type": "execute_result"
    }
   ],
   "source": [
    "A[1, 0]  # you can us on [] for pointing on coordinate"
   ]
  },
  {
   "cell_type": "code",
   "execution_count": 70,
   "id": "3f26c1d3",
   "metadata": {
    "pycharm": {
     "name": "#%%\n"
    }
   },
   "outputs": [
    {
     "name": "stdout",
     "output_type": "stream",
     "text": [
      "[[1 2]\n",
      " [3 4]]\n"
     ]
    },
    {
     "data": {
      "text/plain": [
       "array([2, 4])"
      ]
     },
     "execution_count": 70,
     "metadata": {},
     "output_type": "execute_result"
    }
   ],
   "source": [
    "print(A)\n",
    "A[:,1]"
   ]
  },
  {
   "cell_type": "code",
   "execution_count": 71,
   "id": "60c9d25a",
   "metadata": {
    "pycharm": {
     "name": "#%%\n"
    }
   },
   "outputs": [
    {
     "data": {
      "text/plain": [
       "array([1, 2])"
      ]
     },
     "execution_count": 71,
     "metadata": {},
     "output_type": "execute_result"
    }
   ],
   "source": [
    "A[0, :]"
   ]
  },
  {
   "cell_type": "code",
   "execution_count": 72,
   "id": "713657de",
   "metadata": {
    "pycharm": {
     "name": "#%%\n"
    }
   },
   "outputs": [
    {
     "name": "stdout",
     "output_type": "stream",
     "text": [
      "[[1 2]\n",
      " [3 4]]\n"
     ]
    },
    {
     "data": {
      "text/plain": [
       "array([[1, 3],\n",
       "       [2, 4]])"
      ]
     },
     "execution_count": 72,
     "metadata": {},
     "output_type": "execute_result"
    }
   ],
   "source": [
    "print(A)\n",
    "A.T  # T means transpose, The transpose of a matrix is found by interchanging its rows into columns\n",
    "# or columns into rows."
   ]
  },
  {
   "cell_type": "code",
   "execution_count": 73,
   "id": "cd63f07d",
   "metadata": {
    "pycharm": {
     "name": "#%%\n"
    }
   },
   "outputs": [
    {
     "name": "stdout",
     "output_type": "stream",
     "text": [
      "[[ 2.71828183  7.3890561 ]\n",
      " [20.08553692 54.59815003]]\n",
      "[[ 2.71828183  7.3890561 ]\n",
      " [20.08553692 54.59815003]]\n"
     ]
    }
   ],
   "source": [
    "print(np.exp(A))\n",
    "print(np.exp(L))  # NumPy Knows the structure Python list "
   ]
  },
  {
   "cell_type": "code",
   "execution_count": 74,
   "id": "b844b878",
   "metadata": {
    "pycharm": {
     "name": "#%%\n"
    }
   },
   "outputs": [
    {
     "name": "stdout",
     "output_type": "stream",
     "text": [
      "[[1 2]\n",
      " [3 4]]\n"
     ]
    },
    {
     "data": {
      "text/plain": [
       "-2.0000000000000004"
      ]
     },
     "execution_count": 74,
     "metadata": {},
     "output_type": "execute_result"
    }
   ],
   "source": [
    "print(A)\n",
    "np.linalg.det(A)  # it returns the  determinant of the matrix\n"
   ]
  },
  {
   "cell_type": "markdown",
   "id": "ee7d77fa",
   "metadata": {
    "pycharm": {
     "name": "#%% md\n"
    }
   },
   "source": [
    "## important py attention to the 000000000000004\n",
    "#### it is rounding error and you must consider it \n",
    "NumPys' methods all have rounding errors"
   ]
  },
  {
   "cell_type": "code",
   "execution_count": 75,
   "id": "1f41d6c5",
   "metadata": {
    "pycharm": {
     "name": "#%%\n"
    }
   },
   "outputs": [
    {
     "data": {
      "text/plain": [
       "array([[-2. ,  1. ],\n",
       "       [ 1.5, -0.5]])"
      ]
     },
     "execution_count": 75,
     "metadata": {},
     "output_type": "execute_result"
    }
   ],
   "source": [
    "np.linalg.inv(A)  # it returns the inverse(reciprocal) of matrix"
   ]
  },
  {
   "cell_type": "code",
   "execution_count": 76,
   "id": "6dcb0699",
   "metadata": {
    "pycharm": {
     "name": "#%%\n"
    }
   },
   "outputs": [
    {
     "name": "stdout",
     "output_type": "stream",
     "text": [
      "[[1 2]\n",
      " [3 4]]\n",
      "[[5 6]\n",
      " [3 4]]\n"
     ]
    },
    {
     "data": {
      "text/plain": [
       "array([[11, 14],\n",
       "       [27, 34]])"
      ]
     },
     "execution_count": 76,
     "metadata": {},
     "output_type": "execute_result"
    }
   ],
   "source": [
    "print(A)\n",
    "print(B)\n",
    "np.dot(A, B)"
   ]
  },
  {
   "cell_type": "code",
   "execution_count": 77,
   "id": "9a0a58ae",
   "metadata": {
    "pycharm": {
     "name": "#%%\n"
    }
   },
   "outputs": [
    {
     "data": {
      "text/plain": [
       "array([ 0.58779206,  0.02901368,  0.32298387,  0.810355  , -0.19888891,\n",
       "        0.36289457,  0.78602528, -0.00338408, -0.05729617, -1.59132797,\n",
       "        1.59590966, -0.01499426,  1.35579884,  0.32633124, -0.83171021,\n",
       "       -0.44791433,  1.3115065 , -2.017871  ,  1.15648898, -0.00985481,\n",
       "        1.59930161,  1.91226946,  0.61179868, -0.17821653,  0.72767694,\n",
       "        0.4248044 ,  1.19401604,  1.88075534,  2.5366292 ,  0.6880236 ,\n",
       "        0.53666609, -0.00356866, -1.71935323,  1.25377822, -0.84193083,\n",
       "        1.96091004,  0.40507652, -0.47175634, -0.31499967,  2.08581182,\n",
       "        1.34388406,  0.13022117,  0.96346511,  0.00818262, -0.4007488 ,\n",
       "       -0.85466076, -1.30789596,  1.73820986, -0.3621167 , -0.1249514 ,\n",
       "        0.59297386,  0.44381806,  0.95686996, -0.260587  ,  0.55213597,\n",
       "        0.38842572, -0.11323823, -0.85547322,  0.78388816, -0.01827162,\n",
       "        0.8901206 ,  1.11852751,  0.72409898,  0.19437209,  0.32945364,\n",
       "       -0.80677203,  1.45432672, -0.33904113, -2.23982843,  0.41897189,\n",
       "        0.38352679,  0.39192798,  0.735152  , -0.59664892,  1.02404159,\n",
       "       -0.89125199,  0.633827  , -1.05710123,  1.23440049,  0.49071432,\n",
       "       -0.76913767,  0.10044684,  0.12970566,  0.11137622, -0.48786036,\n",
       "       -1.50987614,  1.20840557, -0.76817924,  0.31188114, -0.06550478,\n",
       "       -0.4389914 ,  0.0687067 , -0.21995937, -0.39016924,  1.08405623,\n",
       "       -1.51966051,  0.17175009, -1.22108124, -1.99834579,  1.62116181])"
      ]
     },
     "execution_count": 77,
     "metadata": {},
     "output_type": "execute_result"
    }
   ],
   "source": [
    "np.linalg.inv(A).dot(A)  # pay attention to the rounding error\n",
    "a  # inverse of the matrix that multiple to it must returns identity matrix"
   ]
  },
  {
   "cell_type": "code",
   "execution_count": 78,
   "id": "4655e761",
   "metadata": {
    "pycharm": {
     "name": "#%%\n"
    }
   },
   "outputs": [
    {
     "data": {
      "text/plain": [
       "5"
      ]
     },
     "execution_count": 78,
     "metadata": {},
     "output_type": "execute_result"
    }
   ],
   "source": [
    "np.trace(A)  # trace() returns the sum of main diameter"
   ]
  },
  {
   "cell_type": "markdown",
   "id": "efc70cc7",
   "metadata": {
    "pycharm": {
     "name": "#%% md\n"
    }
   },
   "source": [
    "## eigendecomposition of a matrix"
   ]
  },
  {
   "cell_type": "code",
   "execution_count": 79,
   "id": "acdd3375",
   "metadata": {
    "pycharm": {
     "name": "#%%\n"
    }
   },
   "outputs": [
    {
     "data": {
      "text/plain": [
       "(array([-0.37228132,  5.37228132]),\n",
       " array([[-0.82456484, -0.41597356],\n",
       "        [ 0.56576746, -0.90937671]]))"
      ]
     },
     "execution_count": 79,
     "metadata": {},
     "output_type": "execute_result"
    }
   ],
   "source": [
    "A = np.array([[1,2], [3, 4]])\n",
    "np.linalg.eig(A)\n",
    "# first array is eigenvalues and second array is eigenvectors"
   ]
  },
  {
   "cell_type": "code",
   "execution_count": 80,
   "id": "bb29d2c8",
   "metadata": {
    "pycharm": {
     "name": "#%%\n"
    }
   },
   "outputs": [
    {
     "name": "stdout",
     "output_type": "stream",
     "text": [
      "first eigenvalues:   -0.3722813232690143\n",
      "first column of eigenvector   [-0.82456484  0.56576746]\n",
      "[[1 2]\n",
      " [3 4]]\n",
      "first column of eigenvector   [-0.82456484  0.56576746]\n",
      "eigenvalue * first column of eigenvector: [ 0.30697009 -0.21062466]\n",
      "A * first column of eigenvector: [ 0.30697009 -0.21062466]\n"
     ]
    }
   ],
   "source": [
    "Lam, V = np.linalg.eig(A)\n",
    "print('first eigenvalues:  ',Lam[0])\n",
    "print('first column of eigenvector  ',V[:,0])\n",
    "print(A)\n",
    "print('first column of eigenvector  ',V[:,0])\n",
    "print('eigenvalue * first column of eigenvector:', Lam[0]*V[:, 0])\n",
    "print('A * first column of eigenvector:', A @ V[:, 0])  # important pay attention it should be @ (inner production)\n",
    "# not * that just multiple"
   ]
  },
  {
   "cell_type": "code",
   "execution_count": 81,
   "id": "bcb635dc",
   "metadata": {
    "pycharm": {
     "name": "#%%\n"
    }
   },
   "outputs": [
    {
     "name": "stdout",
     "output_type": "stream",
     "text": [
      "second eigenvalue * second column of eigenvector:  [-2.23472698 -4.88542751]\n",
      "A @(inner product) second column of eigenvector:  [-2.23472698 -4.88542751]\n"
     ]
    }
   ],
   "source": [
    "print('second eigenvalue * second column of eigenvector: ', Lam[1] * V[:, 1] )\n",
    "print('A @(inner product) second column of eigenvector: ', A @ V[:, 1])"
   ]
  },
  {
   "cell_type": "code",
   "execution_count": 82,
   "id": "c792e033",
   "metadata": {
    "pycharm": {
     "name": "#%%\n"
    }
   },
   "outputs": [
    {
     "data": {
      "text/plain": [
       "array([ True, False])"
      ]
     },
     "execution_count": 82,
     "metadata": {},
     "output_type": "execute_result"
    }
   ],
   "source": [
    "Lam[0] * V[:, 0] == A @ V[:, 0]  # "
   ]
  },
  {
   "cell_type": "markdown",
   "id": "fe758313",
   "metadata": {
    "pycharm": {
     "name": "#%% md\n"
    }
   },
   "source": [
    "### pay attention that first one is True but second one is False this is because of rounding error\n",
    "### as eigendecomposition equation both of them must be True"
   ]
  },
  {
   "cell_type": "markdown",
   "id": "d3d4a764",
   "metadata": {
    "pycharm": {
     "name": "#%% md\n"
    }
   },
   "source": [
    "## for comparing to array that ignore rounding errors np.allcolse(A, B) must be used"
   ]
  },
  {
   "cell_type": "code",
   "execution_count": 83,
   "id": "7dde4246",
   "metadata": {
    "pycharm": {
     "name": "#%%\n"
    }
   },
   "outputs": [
    {
     "data": {
      "text/plain": [
       "True"
      ]
     },
     "execution_count": 83,
     "metadata": {},
     "output_type": "execute_result"
    }
   ],
   "source": [
    "np.allclose(Lam[0]*V[:,0], A@V[:,0])"
   ]
  },
  {
   "cell_type": "markdown",
   "id": "7bc04b12",
   "metadata": {
    "pycharm": {
     "name": "#%% md\n"
    }
   },
   "source": [
    "##### example of the linear algebra v6"
   ]
  },
  {
   "cell_type": "code",
   "execution_count": 84,
   "id": "f49f439e",
   "metadata": {
    "pycharm": {
     "name": "#%%\n"
    }
   },
   "outputs": [],
   "source": [
    "A = np.array([[1, 1], [1500, 4000]])\n",
    "B = np.array([2200, 5_050_000])"
   ]
  },
  {
   "cell_type": "code",
   "execution_count": 85,
   "id": "c11dbebb",
   "metadata": {
    "pycharm": {
     "name": "#%%\n"
    }
   },
   "outputs": [
    {
     "data": {
      "text/plain": [
       "array([1500.,  700.])"
      ]
     },
     "execution_count": 85,
     "metadata": {},
     "output_type": "execute_result"
    }
   ],
   "source": [
    "np.linalg.solve(A, B)"
   ]
  },
  {
   "cell_type": "code",
   "execution_count": 86,
   "id": "238b83c0",
   "metadata": {
    "pycharm": {
     "name": "#%%\n"
    }
   },
   "outputs": [
    {
     "data": {
      "text/plain": [
       "array([1500.,  700.])"
      ]
     },
     "execution_count": 86,
     "metadata": {},
     "output_type": "execute_result"
    }
   ],
   "source": [
    "np.linalg.inv(A).dot(B)  # important you can solve the question with this mean but np.solve() very better\n",
    "# in notebook it was explained"
   ]
  },
  {
   "cell_type": "code",
   "execution_count": 87,
   "id": "bca3fe7a",
   "metadata": {
    "pycharm": {
     "name": "#%%\n"
    }
   },
   "outputs": [
    {
     "name": "stdout",
     "output_type": "stream",
     "text": [
      "variance:  1.0166497982540383\n",
      "covariance:  [[ 1.55449518 -0.18955874 -0.60180947 ...  1.39500469 -0.15526957\n",
      "  -0.64702915]\n",
      " [-0.18955874  1.59202701 -0.49219591 ...  2.02452601  0.45384141\n",
      "  -1.97949353]\n",
      " [-0.60180947 -0.49219591  0.43687379 ... -1.33121539 -0.09666989\n",
      "   0.99252864]\n",
      " ...\n",
      " [ 1.39500469  2.02452601 -1.33121539 ...  4.32179404  0.46902133\n",
      "  -3.45998097]\n",
      " [-0.15526957  0.45384141 -0.09666989 ...  0.46902133  0.13606676\n",
      "  -0.50596547]\n",
      " [-0.64702915 -1.97949353  0.99252864 ... -3.45998097 -0.50596547\n",
      "   2.96990198]]\n",
      "covariance of the transpose:  [[ 1.04569    -0.05382522  0.03371825]\n",
      " [-0.05382522  1.05497761 -0.02218634]\n",
      " [ 0.03371825 -0.02218634  0.9491792 ]]\n"
     ]
    }
   ],
   "source": [
    "R = np.random.randn(1000, 3)\n",
    "print('variance: ',np.var(R))\n",
    "print('covariance: ',np.cov(R))\n",
    "print('covariance of the transpose: ', np.cov(R.T))"
   ]
  },
  {
   "cell_type": "code",
   "execution_count": 88,
   "id": "685c7b53",
   "metadata": {
    "pycharm": {
     "name": "#%%\n"
    }
   },
   "outputs": [
    {
     "data": {
      "text/plain": [
       "(1000, 3)"
      ]
     },
     "execution_count": 88,
     "metadata": {},
     "output_type": "execute_result"
    }
   ],
   "source": [
    "R.shape"
   ]
  },
  {
   "cell_type": "code",
   "execution_count": 89,
   "id": "69e592c1",
   "metadata": {
    "pycharm": {
     "name": "#%%\n"
    }
   },
   "outputs": [
    {
     "data": {
      "text/plain": [
       "array([[ 0.15291855, -0.47163044,  0.36499787, ...,  2.06253593,\n",
       "         0.71991367, -0.79039942],\n",
       "       [-0.48046462, -0.25619879,  0.02188954, ..., -1.1092188 ,\n",
       "        -0.62898225, -0.4661527 ],\n",
       "       [ 0.24318226,  1.85098502,  0.01887126, ...,  0.74697872,\n",
       "         0.81054362,  1.70516452],\n",
       "       ...,\n",
       "       [ 0.79149192, -0.86848113, -1.48284336, ..., -0.21421506,\n",
       "        -1.19352719,  0.00460828],\n",
       "       [ 1.62635247, -0.69854823,  0.98353533, ...,  0.15609056,\n",
       "        -1.03614389, -1.79290615],\n",
       "       [-1.05603428, -0.21986519,  0.09327409, ...,  0.64881681,\n",
       "         0.15085973, -0.98657657]])"
      ]
     },
     "execution_count": 89,
     "metadata": {},
     "output_type": "execute_result"
    }
   ],
   "source": [
    "dp = np.random.randn(99, 15)\n",
    "dp"
   ]
  },
  {
   "cell_type": "markdown",
   "id": "88d386a2",
   "metadata": {
    "pycharm": {
     "name": "#%% md\n"
    }
   },
   "source": [
    "# Basic Plots \n",
    "video 8"
   ]
  },
  {
   "cell_type": "code",
   "execution_count": 90,
   "id": "0f373f80",
   "metadata": {
    "pycharm": {
     "name": "#%%\n"
    }
   },
   "outputs": [],
   "source": [
    "import matplotlib.pyplot as plt"
   ]
  },
  {
   "cell_type": "code",
   "execution_count": 91,
   "id": "57b31856",
   "metadata": {
    "pycharm": {
     "name": "#%%\n"
    }
   },
   "outputs": [],
   "source": [
    "x = np.linspace(0, 20, 1000)\n",
    "y = np.sin(x) + 0.2 * x"
   ]
  },
  {
   "cell_type": "markdown",
   "id": "78e4f98b",
   "metadata": {
    "pycharm": {
     "name": "#%% md\n"
    }
   },
   "source": [
    "line chart"
   ]
  },
  {
   "cell_type": "code",
   "execution_count": 92,
   "id": "f0ddcc1a",
   "metadata": {
    "pycharm": {
     "name": "#%%\n"
    }
   },
   "outputs": [
    {
     "data": {
      "text/plain": [
       "[<matplotlib.lines.Line2D at 0x178a2a66290>]"
      ]
     },
     "execution_count": 92,
     "metadata": {},
     "output_type": "execute_result"
    },
    {
     "data": {
      "image/png": "[encoded data removed]",
      "text/plain": [
       "<Figure size 640x480 with 1 Axes>"
      ]
     },
     "metadata": {},
     "output_type": "display_data"
    }
   ],
   "source": [
    "plt.plot(x, y)"
   ]
  },
  {
   "cell_type": "code",
   "execution_count": 93,
   "id": "de18e967",
   "metadata": {
    "pycharm": {
     "name": "#%%\n"
    }
   },
   "outputs": [
    {
     "data": {
      "text/plain": [
       "[<matplotlib.lines.Line2D at 0x178a2c08b20>]"
      ]
     },
     "execution_count": 93,
     "metadata": {},
     "output_type": "execute_result"
    },
    {
     "data": {
      "image/png": "[encoded data removed]",
      "text/plain": [
       "<Figure size 640x480 with 1 Axes>"
      ]
     },
     "metadata": {},
     "output_type": "display_data"
    }
   ],
   "source": [
    "\n",
    "fig, ax = plt.subplots()  # plt.Subplots() returns two variables first one is for figure and\n",
    "# the second on is for axis    \n",
    "# important pay attention to the s at the end of subplots()\n",
    "ax.set(xlim=(0, 20), xticks=np.arange(1, 20), ylim=(0, 20), yticks=np.arange(1, 20))\n",
    "# important pay attention to xlim and ylim\n",
    "plt.title('my plot')\n",
    "plt.xlabel('input')\n",
    "plt.ylabel('output')\n",
    "plt.plot(x, y, linewidth=2.0)"
   ]
  },
  {
   "cell_type": "code",
   "execution_count": 94,
   "id": "2bad0082",
   "metadata": {
    "pycharm": {
     "name": "#%%\n"
    }
   },
   "outputs": [
    {
     "data": {
      "text/plain": [
       "[<matplotlib.lines.Line2D at 0x178a2cbe2c0>]"
      ]
     },
     "execution_count": 94,
     "metadata": {},
     "output_type": "execute_result"
    },
    {
     "data": {
      "image/png": "[encoded data removed]",
      "text/plain": [
       "<Figure size 640x480 with 1 Axes>"
      ]
     },
     "metadata": {},
     "output_type": "display_data"
    }
   ],
   "source": [
    "\n",
    "fig, ax = plt.subplots()\n",
    "ax.set(xlim=(0, 20), xticks=np.arange(1, 20), ylim=(0, 5), yticks=np.arange(0, 5))\n",
    "plt.title('my plot 2')\n",
    "plt.xlabel('input')\n",
    "plt.ylabel('output')\n",
    "plt.plot(x, y, linewidth=5.0)"
   ]
  },
  {
   "cell_type": "markdown",
   "id": "82a77323",
   "metadata": {
    "pycharm": {
     "name": "#%% md\n"
    }
   },
   "source": [
    "bar chart"
   ]
  },
  {
   "cell_type": "code",
   "execution_count": 95,
   "id": "68b1f351",
   "metadata": {
    "pycharm": {
     "name": "#%%\n"
    }
   },
   "outputs": [
    {
     "data": {
      "text/plain": [
       "['Solarize_Light2',\n",
       " '_classic_test_patch',\n",
       " '_mpl-gallery',\n",
       " '_mpl-gallery-nogrid',\n",
       " 'bmh',\n",
       " 'classic',\n",
       " 'dark_background',\n",
       " 'fast',\n",
       " 'fivethirtyeight',\n",
       " 'ggplot',\n",
       " 'grayscale',\n",
       " 'seaborn-v0_8',\n",
       " 'seaborn-v0_8-bright',\n",
       " 'seaborn-v0_8-colorblind',\n",
       " 'seaborn-v0_8-dark',\n",
       " 'seaborn-v0_8-dark-palette',\n",
       " 'seaborn-v0_8-darkgrid',\n",
       " 'seaborn-v0_8-deep',\n",
       " 'seaborn-v0_8-muted',\n",
       " 'seaborn-v0_8-notebook',\n",
       " 'seaborn-v0_8-paper',\n",
       " 'seaborn-v0_8-pastel',\n",
       " 'seaborn-v0_8-poster',\n",
       " 'seaborn-v0_8-talk',\n",
       " 'seaborn-v0_8-ticks',\n",
       " 'seaborn-v0_8-white',\n",
       " 'seaborn-v0_8-whitegrid',\n",
       " 'tableau-colorblind10']"
      ]
     },
     "execution_count": 95,
     "metadata": {},
     "output_type": "execute_result"
    }
   ],
   "source": [
    "plt.style.use('seaborn-v0_8-bright')  # dark_background is selected\n",
    "plt.style.available"
   ]
  },
  {
   "cell_type": "code",
   "execution_count": 96,
   "id": "0153481b",
   "metadata": {
    "pycharm": {
     "name": "#%%\n"
    }
   },
   "outputs": [
    {
     "data": {
      "text/plain": [
       "[<matplotlib.lines.Line2D at 0x178a2d0a1a0>]"
      ]
     },
     "execution_count": 96,
     "metadata": {},
     "output_type": "execute_result"
    },
    {
     "data": {
      "image/png": "[encoded data removed]",
      "text/plain": [
       "<Figure size 640x480 with 1 Axes>"
      ]
     },
     "metadata": {},
     "output_type": "display_data"
    }
   ],
   "source": [
    "plt.plot(x, y)"
   ]
  },
  {
   "cell_type": "code",
   "execution_count": 97,
   "id": "76c007ab",
   "metadata": {
    "pycharm": {
     "name": "#%%\n"
    }
   },
   "outputs": [
    {
     "name": "stdout",
     "output_type": "stream",
     "text": [
      "[0.5 1.5 2.5 3.5 4.5 5.5 6.5 7.5]\n",
      "8\n"
     ]
    },
    {
     "data": {
      "text/plain": [
       "array([4.75398951, 5.54073911, 3.45452369, 4.55413803, 6.46473477,\n",
       "       6.48146544, 2.62792655, 3.03621439])"
      ]
     },
     "execution_count": 97,
     "metadata": {},
     "output_type": "execute_result"
    }
   ],
   "source": [
    "np.random.seed(3)\n",
    "x = 0.5 +np.arange(8)\n",
    "y = np.random.uniform(2, 7, len(x))\n",
    "print(x)\n",
    "print(len(x))\n",
    "y"
   ]
  },
  {
   "cell_type": "code",
   "execution_count": 98,
   "id": "4bfde781",
   "metadata": {
    "pycharm": {
     "name": "#%%\n"
    }
   },
   "outputs": [
    {
     "data": {
      "text/plain": [
       "[(1.0, 8.0),\n",
       " [<matplotlib.axis.XTick at 0x178a2d69de0>,\n",
       "  <matplotlib.axis.XTick at 0x178a2d69db0>,\n",
       "  <matplotlib.axis.XTick at 0x178a2d68370>,\n",
       "  <matplotlib.axis.XTick at 0x178a2d8ed40>,\n",
       "  <matplotlib.axis.XTick at 0x178a2d8f7f0>,\n",
       "  <matplotlib.axis.XTick at 0x178a2db82e0>,\n",
       "  <matplotlib.axis.XTick at 0x178a2db8d90>],\n",
       " (1.0, 8.0),\n",
       " [<matplotlib.axis.YTick at 0x178a2d6a980>,\n",
       "  <matplotlib.axis.YTick at 0x178a2d6a440>,\n",
       "  <matplotlib.axis.YTick at 0x178a2d691b0>,\n",
       "  <matplotlib.axis.YTick at 0x178a2db9000>,\n",
       "  <matplotlib.axis.YTick at 0x178a2dba290>,\n",
       "  <matplotlib.axis.YTick at 0x178a2dbad40>,\n",
       "  <matplotlib.axis.YTick at 0x178a2dbb7f0>]]"
      ]
     },
     "execution_count": 98,
     "metadata": {},
     "output_type": "execute_result"
    },
    {
     "data": {
      "image/png": "[encoded data removed]",
      "text/plain": [
       "<Figure size 640x480 with 1 Axes>"
      ]
     },
     "metadata": {},
     "output_type": "display_data"
    }
   ],
   "source": [
    "from matplotlib.pyplot import xticks, ylim, yticks\n",
    "\n",
    "fig, ax = plt.subplots()\n",
    "ax.bar(x, y, width=1, edgecolor='white', linewidth= 0.7)  # ax.bar() the type of the chart is selected by .bar\n",
    "ax.set(xlim=(1, 8),\n",
    "       xticks=np.arange(1, 8),\n",
    "       ylim=(1, 8),\n",
    "       yticks=np.arange(1, 8))\n"
   ]
  },
  {
   "cell_type": "code",
   "execution_count": 99,
   "id": "2f42de44",
   "metadata": {
    "pycharm": {
     "name": "#%%\n"
    }
   },
   "outputs": [
    {
     "name": "stdout",
     "output_type": "stream",
     "text": [
      "Solarize_Light2\n",
      "_classic_test_patch\n",
      "_mpl-gallery\n",
      "_mpl-gallery-nogrid\n",
      "bmh\n",
      "classic\n",
      "dark_background\n",
      "fast\n",
      "fivethirtyeight\n",
      "ggplot\n",
      "grayscale\n",
      "seaborn-v0_8\n",
      "seaborn-v0_8-bright\n",
      "seaborn-v0_8-colorblind\n",
      "seaborn-v0_8-dark\n",
      "seaborn-v0_8-dark-palette\n",
      "seaborn-v0_8-darkgrid\n",
      "seaborn-v0_8-deep\n",
      "seaborn-v0_8-muted\n",
      "seaborn-v0_8-notebook\n",
      "seaborn-v0_8-paper\n",
      "seaborn-v0_8-pastel\n",
      "seaborn-v0_8-poster\n",
      "seaborn-v0_8-talk\n",
      "seaborn-v0_8-ticks\n",
      "seaborn-v0_8-white\n",
      "seaborn-v0_8-whitegrid\n",
      "tableau-colorblind10\n"
     ]
    },
    {
     "data": {
      "image/png": "[encoded data removed]",
      "text/plain": [
       "<Figure size 640x480 with 1 Axes>"
      ]
     },
     "metadata": {},
     "output_type": "display_data"
    }
   ],
   "source": [
    "for i in plt.style.available:\n",
    "    print(i)\n",
    "    plt.style.use(i)\n",
    "    plt.plot()"
   ]
  },
  {
   "cell_type": "code",
   "execution_count": 100,
   "id": "450e7f50",
   "metadata": {
    "pycharm": {
     "name": "#%%\n"
    }
   },
   "outputs": [
    {
     "name": "stdout",
     "output_type": "stream",
     "text": [
      "kamyar\n",
      "mazaheri\n"
     ]
    }
   ],
   "source": []
  },
  {
   "cell_type": "code",
   "execution_count": 100,
   "id": "e1270fe5",
   "metadata": {
    "pycharm": {
     "name": "#%%\n"
    }
   },
   "outputs": [],
   "source": []
  }
 ],
 "metadata": {
  "kernelspec": {
   "display_name": "Python 3 (ipykernel)",
   "language": "python",
   "name": "python3"
  },
  "language_info": {
   "codemirror_mode": {
    "name": "ipython",
    "version": 3
   },
   "file_extension": ".py",
   "mimetype": "text/x-python",
   "name": "python",
   "nbconvert_exporter": "python",
   "pygments_lexer": "ipython3",
   "version": "3.10.5"
  },
  "vscode": {
   "interpreter": {
    "hash": "c464088b9fdbc0dbb6a4b177d9d8e8fc860abe349d7957a4ea4ec642448f7f4d"
   }
  }
 },
 "nbformat": 4,
 "nbformat_minor": 5
}
